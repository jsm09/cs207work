{
 "cells": [
  {
   "cell_type": "markdown",
   "metadata": {},
   "source": [
    "## Basic Algorithms: Fibonacci\n",
    "\n",
    "Another form of recursion is tree recursion. Consider computing a fibonacci sequence, in which each number is the sum of the previous two, with the first two taken to be 0 and 1."
   ]
  },
  {
   "cell_type": "markdown",
   "metadata": {},
   "source": [
    "### Recursive Fibonacci. \n",
    "\n",
    "\n",
    "We write Fibonacci recursively with the first two numbers as base cases.\n",
    "\n",
    "![](https://mitpress.mit.edu/sicp/full-text/book/ch1-Z-G-13.gif)\n",
    "\n",
    "(from SICP)\n",
    "\n",
    "Signature: `def fib_recursive(n)`"
   ]
  },
  {
   "cell_type": "code",
   "execution_count": 97,
   "metadata": {
    "collapsed": false
   },
   "outputs": [
    {
     "name": "stdout",
     "output_type": "stream",
     "text": [
      "1 0 1\n",
      "2 1 1\n",
      "7 8 25\n",
      "13 144 465\n",
      "29 317811 1028457\n",
      "33 2178309 7049155\n"
     ]
    }
   ],
   "source": [
    "def fib_recursive(n):\n",
    "    global numberOfCalls\n",
    "    numberOfCalls+=1\n",
    "    if n == 1:\n",
    "        return 0\n",
    "    if n == 2:\n",
    "        return 1\n",
    "    return fib_recursive(n-1) + fib_recursive(n-2)\n",
    "\n",
    "for i in [1, 2, 7, 13, 29, 33]:\n",
    "    numberOfCalls = 0\n",
    "    print(i, fib_recursive(i), numberOfCalls)"
   ]
  },
  {
   "cell_type": "markdown",
   "metadata": {},
   "source": [
    "### Q1. \n",
    "\n",
    "What are the space and time complexities of this implementation? Hint: think aboutthe number of items in a binary tree and its depth."
   ]
  },
  {
   "cell_type": "markdown",
   "metadata": {},
   "source": [
    "*your answer here*\n",
    "\n",
    "For fib(n), we can visualize the time complexity with a binary tree, since we are not storing any of these values in this recursive implementation and have to keep calculating them redundantly. For example, we may need to calculate fib(3) many times over, because the function has no knowledge that that was previously calculated. In The binary tree will have n levels, and the number of items in each level will be double the previous level. For fib(5), the number of items will be roughly 2^0 + 2^1 + 2^2 + 2^3 + 2^4. <b>So the time complexity comes out to roughly 2^(n-1), and will be dominated by 2^n.</b>\n",
    "\n",
    "The space complexity can be visualized in python tutor: As we can see, the worst case will be O(n). For example, to calculate fib_recursive(7), the program will create a new frame every time the function gets called. So it will create a frame for fib(7), and discover that it needs to find fib(6), so it will create a new frame for that, and so on. <b>Thus the space cost will be O(n).</b>"
   ]
  },
  {
   "cell_type": "code",
   "execution_count": 114,
   "metadata": {
    "collapsed": false
   },
   "outputs": [
    {
     "data": {
      "text/html": [
       "<iframe width=\"800\" height=\"500\" frameborder=\"0\" src=\"http://pythontutor.com/iframe-embed.html#code=def%20fib_recursive(n%29%3A%0A%20%20%20%20if%20n%20%3D%3D%201%3A%0A%20%20%20%20%20%20%20%20return%200%0A%20%20%20%20if%20n%20%3D%3D%202%3A%0A%20%20%20%20%20%20%20%20return%201%0A%20%20%20%20return%20fib_recursive(n-1%29%20%2B%20fib_recursive(n-2%29%0A%0Afor%20i%20in%20%5B1,%202,%207,%2013,%2029,%2033%5D%3A%0A%20%20%20%20print(fib_recursive(i%29%29&codeDivHeight=400&codeDivWidth=350&cumulative=false&curInstr=119&heapPrimitives=false&origin=opt-frontend.js&py=3&rawInputLstJSON=%5B%5D&textReferences=false\"> </iframe>"
      ],
      "text/plain": [
       "<IPython.core.display.HTML object>"
      ]
     },
     "execution_count": 114,
     "metadata": {},
     "output_type": "execute_result"
    }
   ],
   "source": [
    "from IPython.display import HTML\n",
    "HTML('<iframe width=\"800\" height=\"500\" frameborder=\"0\" src=\"http://pythontutor.com/iframe-embed.html#code=def%20fib_recursive(n%29%3A%0A%20%20%20%20if%20n%20%3D%3D%201%3A%0A%20%20%20%20%20%20%20%20return%200%0A%20%20%20%20if%20n%20%3D%3D%202%3A%0A%20%20%20%20%20%20%20%20return%201%0A%20%20%20%20return%20fib_recursive(n-1%29%20%2B%20fib_recursive(n-2%29%0A%0Afor%20i%20in%20%5B1,%202,%207,%2013,%2029,%2033%5D%3A%0A%20%20%20%20print(fib_recursive(i%29%29&codeDivHeight=400&codeDivWidth=350&cumulative=false&curInstr=119&heapPrimitives=false&origin=opt-frontend.js&py=3&rawInputLstJSON=%5B%5D&textReferences=false\"> </iframe>')"
   ]
  },
  {
   "cell_type": "markdown",
   "metadata": {},
   "source": [
    "### Dynamic Programming and Iteration\n",
    "\n",
    "From Skiena\n",
    ">..**dynamic programming**, which typically removes one element from the problem, solves the smaller problem, and then uses the solution to this smaller problem to add back the element in the proper way. **Divide-and-conquer** instead splits the problem in (say) halves, solves each half, then stitches the pieces back together to form a full solution.\n",
    "\n",
    ">Dynamic programming is a technique for efficiently implementing a recursive algorithm by storing partial results. The trick is seeing whether the naive recursive algorithm computes the same subproblems over and over and over again. If so, storing the answer for each subproblems in a table to look up instead of recompute can lead to an efficient algorithm. Start with a recursive algorithm or definition. Only once we have a correct recursive algorithm do we worry about speeding it up by using a results matrix. Dynamic programming is generally the right method for optimization problems on combinatorial objects that have an inherent left to right order among components. Left-to-right objects includes: character strings, rooted trees, polygons, and integer sequences."
   ]
  },
  {
   "cell_type": "markdown",
   "metadata": {},
   "source": [
    "### Q2.\n",
    "\n",
    "Here is an implementation of Fibonacci using dynamic programming: they key is to notice that the recurrence we used can be put into an iterative form and just stored in an ever increasing array. What is the space and time complexity here? What if you were somehow able to save the array outside of the function when u calculate `fib(M)` and subsequently had to calculate `fib(N)`, where $N>M$."
   ]
  },
  {
   "cell_type": "code",
   "execution_count": 115,
   "metadata": {
    "collapsed": true
   },
   "outputs": [],
   "source": [
    "def fib_iterative(n):\n",
    "    fibs=[]\n",
    "    fibs.append(0)\n",
    "    fibs.append(1)\n",
    "    for i in range(2, n):\n",
    "         fibs.append(fibs[i-1]+fibs[i-2])\n",
    "    return fibs[n-1]"
   ]
  },
  {
   "cell_type": "code",
   "execution_count": 116,
   "metadata": {
    "collapsed": false
   },
   "outputs": [
    {
     "name": "stdout",
     "output_type": "stream",
     "text": [
      "0\n",
      "1\n",
      "8\n",
      "144\n",
      "317811\n",
      "2178309\n"
     ]
    }
   ],
   "source": [
    "for i in [1, 2, 7,13,29,33]:\n",
    "    print(fib_iterative(i))"
   ]
  },
  {
   "cell_type": "markdown",
   "metadata": {},
   "source": [
    "\n",
    "<b>The space complexity, similar to the recursive case, is O(n).</b> For example, for fib(7), we are appending 0 and 1 to a list, and then calculating fib(3), fib(4), fib(5), fib(6) and finally fib(7). So we have stored n items in the list. \n",
    "\n",
    "<b>The time complexity is also O(n)</b> because no variables get destroyed, so for fib(7), we are doing the following n times: \n",
    "- increasing the counter in the for loop\n",
    "- referencing the previous two variables from the stored list\n",
    "- adding them together\n",
    "- appending to the list\n",
    "\n",
    "If you are able to store the array outside of fib(M), then you will save some time cost but not necessarily space cost. You will still need to store the values up to fib(M) and calculate the fib values between N and M, so <b>the space complexity will be O(n)</b>. However, the time will be cut by N/M, since you will not need to calculate the first N values and will only need to reference the array if N < M. <b>The time complexity will be O(n-m), or O(n) as N>>M</b>. The code might look like this:"
   ]
  },
  {
   "cell_type": "code",
   "execution_count": 117,
   "metadata": {
    "collapsed": false
   },
   "outputs": [
    {
     "data": {
      "text/html": [
       "<iframe width=\"800\" height=\"500\" frameborder=\"0\" src=\"http://pythontutor.com/iframe-embed.html#code=fibs%3D%5B%5D%0Afibs.append(0%29%0Afibs.append(1%29%0Adef%20fib_iterative(n%29%3A%0A%20%20%20%20if%20n%3E%20len(fibs%29%3A%0A%20%20%20%20%20%20%20%20for%20i%20in%20range(len(fibs%29,%20n%29%3A%0A%20%20%20%20%20%20%20%20%20%20%20%20fibs.append(fibs%5Bi-1%5D%2Bfibs%5Bi-2%5D%29%0A%20%20%20%20return%20fibs%5Bn-1%5D%0A%0Afor%20i%20in%20%5B1,%202,%207,%2013,%2029,%2033%5D%3A%0A%20%20%20%20print(fib_iterative(i%29%29&codeDivHeight=400&codeDivWidth=350&cumulative=false&curInstr=0&heapPrimitives=false&origin=opt-frontend.js&py=3&rawInputLstJSON=%5B%5D&textReferences=false\"> </iframe>"
      ],
      "text/plain": [
       "<IPython.core.display.HTML object>"
      ]
     },
     "execution_count": 117,
     "metadata": {},
     "output_type": "execute_result"
    }
   ],
   "source": [
    "HTML('<iframe width=\"800\" height=\"500\" frameborder=\"0\" src=\"http://pythontutor.com/iframe-embed.html#code=fibs%3D%5B%5D%0Afibs.append(0%29%0Afibs.append(1%29%0Adef%20fib_iterative(n%29%3A%0A%20%20%20%20if%20n%3E%20len(fibs%29%3A%0A%20%20%20%20%20%20%20%20for%20i%20in%20range(len(fibs%29,%20n%29%3A%0A%20%20%20%20%20%20%20%20%20%20%20%20fibs.append(fibs%5Bi-1%5D%2Bfibs%5Bi-2%5D%29%0A%20%20%20%20return%20fibs%5Bn-1%5D%0A%0Afor%20i%20in%20%5B1,%202,%207,%2013,%2029,%2033%5D%3A%0A%20%20%20%20print(fib_iterative(i%29%29&codeDivHeight=400&codeDivWidth=350&cumulative=false&curInstr=0&heapPrimitives=false&origin=opt-frontend.js&py=3&rawInputLstJSON=%5B%5D&textReferences=false\"> </iframe>')"
   ]
  },
  {
   "cell_type": "markdown",
   "metadata": {},
   "source": [
    "### Recursive Fibonacci with cacheing"
   ]
  },
  {
   "cell_type": "markdown",
   "metadata": {},
   "source": [
    "### Q3. \n",
    "\n",
    "Use `cache` and `call_counter` as decorators on `fib_recursive` and print the fibonacci numbers for 7,13,29, 33. What order should these decorators be called to make sure `call_counter` gets the actual number of calls to `fib_recursive`?\n",
    "\n",
    "We've written the `cache` decorator for you. You have to write the `call_counter` decorator which takes the function as argument and using a `count_dictionary` whose keys are function names, counts the number of times the function is called."
   ]
  },
  {
   "cell_type": "code",
   "execution_count": 118,
   "metadata": {
    "collapsed": true
   },
   "outputs": [],
   "source": [
    "def cache(f):\n",
    "    \"\"\"a single argument function whose values may be cached\"\"\"\n",
    "    cache = {}\n",
    "    def memoized_func(x):\n",
    "        if x not in cache:\n",
    "            #print(\"not yet calculated. calling original fib recursive function\")\n",
    "            cache[x] = f(x)\n",
    "        return cache[x]\n",
    "    memoized_func.__name__ = f.__name__\n",
    "    print(\"converting fib into a cache function\")\n",
    "    return memoized_func\n",
    "    "
   ]
  },
  {
   "cell_type": "code",
   "execution_count": 119,
   "metadata": {
    "collapsed": false
   },
   "outputs": [],
   "source": [
    "def call_counter(count_dictionary):\n",
    "    def call_counter_decorator(func):\n",
    "        def inner(*args, **kwargs):\n",
    "            name = func.__name__\n",
    "            try:\n",
    "                #print(\"calculating fib of\", *args)\n",
    "                count_dictionary[name]+=1\n",
    "            except KeyError:\n",
    "                count_dictionary[name]=1\n",
    "            return func(*args,**kwargs)\n",
    "        print(\"converting fib into a call counter function\")\n",
    "        return inner\n",
    "    return call_counter_decorator\n"
   ]
  },
  {
   "cell_type": "markdown",
   "metadata": {
    "collapsed": false
   },
   "source": [
    "If we only want to count the times in which the value was NOT cached and we needed to call the original fib function, then we need to have the cache decorator before the call counter function. In this case, the fib recursive function will be passed to the call counter first, and then that function will wrapped by the cache function. In this case, the call counter will count the number of calls to the original function, which is what we wanted. The equivalent line of code would be:"
   ]
  },
  {
   "cell_type": "code",
   "execution_count": 110,
   "metadata": {
    "collapsed": true
   },
   "outputs": [],
   "source": [
    "# fib_recursive = cache(call_counter_decorator(fib_recursive))"
   ]
  },
  {
   "cell_type": "code",
   "execution_count": 111,
   "metadata": {
    "collapsed": false
   },
   "outputs": [
    {
     "name": "stdout",
     "output_type": "stream",
     "text": [
      "converting fib into a call counter function\n",
      "converting fib into a cache function\n",
      "7 8 7\n",
      "13 144 13\n",
      "29 317811 29\n",
      "33 2178309 33\n"
     ]
    }
   ],
   "source": [
    "ccounter={}\n",
    "@cache\n",
    "@call_counter(ccounter)\n",
    "def fib_recursive(n):\n",
    "    if n == 1:\n",
    "        return 0\n",
    "    if n == 2:\n",
    "        return 1\n",
    "    return fib_recursive(n-1) + fib_recursive(n-2)\n",
    "#fib_recursive = call_counter(ccounter)\n",
    "#fib_recursive = cache(fib_recursive)\n",
    "\n",
    "for i in [7,13,29, 33]:\n",
    "    print(i, fib_recursive(i), ccounter['fib_recursive'])\n",
    "    "
   ]
  },
  {
   "cell_type": "markdown",
   "metadata": {},
   "source": [
    "### Q4.\n",
    "\n",
    "What is the time and space complexity of the the memoized Fibonacci? HINT: assume evaluation happens left to right on sub-expressions, so that `fib_recursive(n-1)` side of the tree is evaluated first, and thus the tree is evaluated depth first, from left to right. What kind of pruning happens in the tree?"
   ]
  },
  {
   "cell_type": "markdown",
   "metadata": {},
   "source": [
    "<b>The time complexity in this case is O(n) or specifically O(n-m)</b>, the same as the iterative case, in which we cache the variables. This is because if the return value for a given input value has been calculated, it will not calculate it again. Because the function calls fib_recursive(n-1) before it calls fib_recursive(n-2), it will never need to actually call fib_recursive(n-2) since this has already been calculated.\n",
    "Caching also means that the time will depend on the history of what we have calculated previously. If we calculate fib(13) after calling fib(7), we only need to calculate an additional 6 values. If we visualize this as a binary tree, only the left most branch needs to get calculated, and everything else gets pruned.\n",
    "\n",
    "<b>The space complexity is O(n)</b>, because we are caching the return variables. For example, if we calculate fib(13), and fib(7) has already been calculated, the dictionary will have 7 variables. To get the last 6 values, we will need to create new fib frames, and store the new values in the dictionary each time. So the space scales with O(n)."
   ]
  },
  {
   "cell_type": "markdown",
   "metadata": {},
   "source": [
    "### Q5.\n",
    "\n",
    "Do you really need to store the entire array in the dynamic programming implementation? Isnt it enough to have only saved the previous two Fibonacci numbers? Implement such an algorithm in `fib_iterative2(n)`. What is its space and time complexity? How is the time complexity different from that of the previous iterative attempt?"
   ]
  },
  {
   "cell_type": "code",
   "execution_count": 155,
   "metadata": {
    "collapsed": false
   },
   "outputs": [],
   "source": [
    "fibs={1:0, 2:1}\n",
    "#your code here\n",
    "callCounter = 0\n",
    "def fib_iterative2(n):\n",
    "    global callCounter, fibs\n",
    "    if n>max(fibs.keys()):\n",
    "        for i in range(max(fibs.keys())+1, n+1):\n",
    "            callCounter+=1\n",
    "            nextOne = sum(fibs.values())\n",
    "            fibs = {i-1:fibs[i-1],i:nextOne}\n",
    "    return fibs[n]"
   ]
  },
  {
   "cell_type": "code",
   "execution_count": 156,
   "metadata": {
    "collapsed": false
   },
   "outputs": [
    {
     "data": {
      "text/plain": [
       "1"
      ]
     },
     "execution_count": 156,
     "metadata": {},
     "output_type": "execute_result"
    }
   ],
   "source": [
    "someDict = {1:0,2:1}\n",
    "max(someDict.keys())\n",
    "sum(someDict.values())"
   ]
  },
  {
   "cell_type": "code",
   "execution_count": 157,
   "metadata": {
    "collapsed": false
   },
   "outputs": [
    {
     "name": "stdout",
     "output_type": "stream",
     "text": [
      "1 0 0\n",
      "2 1 0\n",
      "7 8 5\n",
      "13 144 11\n",
      "29 317811 27\n",
      "33 2178309 31\n"
     ]
    }
   ],
   "source": [
    "#your code here\n",
    "for i in [1, 2, 7,13,29,33]:\n",
    "    print(i, fib_iterative2(i),callCounter)"
   ]
  },
  {
   "cell_type": "markdown",
   "metadata": {},
   "source": [
    "*your answer here*\n",
    "\n",
    "In this case, <b>the time complexity is O(n) or specifically O(n-m)</b>, where m is the highest value of fib that was cached. So it is the similar to the previous iterative attempt for time, because we still do not need to calculate values redundantly. If we ask for fib(13) and already have fib(7), we only need to calculate 6 more values. \n",
    "\n",
    "The space complexity is the best we have seen yet. Because it is iterative, we do not need to keep creating new frames for the function, and we are only storing 2 values at a time in the dictionary. <b>So the space complexity is O(1)</b>."
   ]
  },
  {
   "cell_type": "markdown",
   "metadata": {},
   "source": [
    "### Q6.\n",
    "\n",
    "Write an algorithm for insertion sort.\n",
    "\n",
    "![](https://camo.githubusercontent.com/8f6fedc10da579f13b22b949f6ad29255b6d721f/68747470733a2f2f75706c6f61642e77696b696d656469612e6f72672f77696b6970656469612f636f6d6d6f6e732f302f30662f496e73657274696f6e2d736f72742d6578616d706c652d33303070782e676966)\n",
    "\n",
    "(from wikipedia)\n",
    "\n",
    "The algorithm is also illustrated here: http://cs.armstrong.edu/liang/animation/web/InsertionSort.html and may be described thus:\n",
    "\n",
    "Insertion sort is a method for sorting that starts with a single element (thus forming a trivially sorted list) and then incrementally inserts the remaining elements so that the list stays sorted.\n",
    "\n",
    "Talk about the best, worst and average complexity of insertion sort. Use the A=[5,2,1,3,8,6,9] to show your code!"
   ]
  },
  {
   "cell_type": "code",
   "execution_count": 166,
   "metadata": {
    "collapsed": false
   },
   "outputs": [
    {
     "name": "stdout",
     "output_type": "stream",
     "text": [
      "[5]\n",
      "[2, 5]\n",
      "[1, 2, 5]\n",
      "[1, 2, 3, 5]\n",
      "[1, 2, 3, 5, 8]\n",
      "[1, 2, 3, 5, 6, 8]\n",
      "[1, 2, 3, 5, 6, 8, 9]\n",
      "[1, 2, 3, 5, 6, 8, 9]\n"
     ]
    }
   ],
   "source": [
    "def insertionSort(someList):\n",
    "    newList = [someList[0]]\n",
    "    for index, item in enumerate(someList):\n",
    "        if index>0:\n",
    "            if item<newList[-1]:\n",
    "                for i, val in enumerate(newList):\n",
    "                    if item<val:\n",
    "                        #print(\"about to insert \"+str(item)+\" at \"+str(i))\n",
    "                        newList.insert(i,item)\n",
    "                        break\n",
    "            else: \n",
    "                #print(\"about to insert \"+str(item)+\" at \"+str(index))\n",
    "                newList.insert(index,item)\n",
    "        print(newList)\n",
    "                \n",
    "    return newList\n",
    "\n",
    "A = [5,2,1,3,8,6,9]\n",
    "sortedList = insertionSort(A)\n",
    "print(sortedList)"
   ]
  },
  {
   "cell_type": "markdown",
   "metadata": {},
   "source": [
    "*your answer here*\n"
   ]
  },
  {
   "cell_type": "markdown",
   "metadata": {
    "collapsed": true
   },
   "source": [
    "Time complexity: \n",
    "- Looping through each item in O(n) in all cases. Within each loop, we need to compare the current item with up to each of the items in the new sorted list(up to N times) and insert it into the right position (O(n)). \n",
    "    - <b>Worst case: O(n^2)</b>, if we need to make comparisons we all the previous items in every case.\n",
    "    - <b>Best case: O(n)</b>, if the list is already sorted, because we just need to make one comparison each time\n",
    "    - <b>Average case will be O(n^2)</b>, since best case is O(n) and worst case is O(n^2).\n",
    "\n",
    "Space complexity:\n",
    "- We need to store a list of length N so <b>the overall space complexity is O(n) in all cases.</b>"
   ]
  }
 ],
 "metadata": {
  "anaconda-cloud": {},
  "kernelspec": {
   "display_name": "Python [py35]",
   "language": "python",
   "name": "Python [py35]"
  },
  "language_info": {
   "codemirror_mode": {
    "name": "ipython",
    "version": 3
   },
   "file_extension": ".py",
   "mimetype": "text/x-python",
   "name": "python",
   "nbconvert_exporter": "python",
   "pygments_lexer": "ipython3",
   "version": "3.5.2"
  }
 },
 "nbformat": 4,
 "nbformat_minor": 0
}
