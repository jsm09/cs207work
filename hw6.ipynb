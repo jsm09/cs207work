{
 "cells": [
  {
   "cell_type": "markdown",
   "metadata": {
    "collapsed": true
   },
   "source": [
    "## Q1.\n",
    "\n",
    "Add a __setitem__ to the python linked list implementation from the lecture (this past wednesday)."
   ]
  },
  {
   "cell_type": "code",
   "execution_count": 4,
   "metadata": {
    "collapsed": false
   },
   "outputs": [],
   "source": [
    "#your code here\n",
    "from doctest import run_docstring_examples as dtest\n",
    "import numbers\n",
    "import reprlib\n",
    "class LL:\n",
    "    \"\"\"\n",
    "    >>> A = LL()  \n",
    "    >>> A[0]\n",
    "    Traceback (most recent call last):\n",
    "        ...\n",
    "    IndexError: trying to index an empty LL\n",
    "    >>> A.insert_front(1)\n",
    "    >>> A[0]\n",
    "    1\n",
    "    >>> A.insert_back(2)\n",
    "    >>> A[1]\n",
    "    2\n",
    "    >>> A\n",
    "    LL([1,...])\n",
    "    >>> myll = LL.from_components([1,2])\n",
    "    >>> myll[1]\n",
    "    1\n",
    "    >>> len(myll)\n",
    "    2\n",
    "    >>> myll[2]\n",
    "    Traceback (most recent call last):\n",
    "        ...\n",
    "    IndexError: LL index out of range\n",
    "    >>> myll[0:1]\n",
    "    Traceback (most recent call last):\n",
    "        ...\n",
    "    TypeError: LL indices must be integers\n",
    "    \"\"\"\n",
    "    @classmethod\n",
    "    def from_components(cls, components):\n",
    "        inst = cls(components[0])\n",
    "        for c in components[1:]:\n",
    "            inst.insert_front(c)\n",
    "        return inst\n",
    "        \n",
    "    def __init__(self, head=None):\n",
    "        if head is None:\n",
    "            self._headNode = None\n",
    "        else:\n",
    "            self._headNode = [head, None]\n",
    "            \n",
    "    def insert_front(self, element):\n",
    "        new_node = [element, None]\n",
    "        new_node[1] = self._headNode\n",
    "        self._headNode = new_node\n",
    "        \n",
    "    def insert_back(self, element):\n",
    "        new_node = [element, None]\n",
    "        curr_ptr = self._headNode\n",
    "        while curr_ptr[1] is not None:\n",
    "            curr_ptr = curr_ptr[1]\n",
    "        curr_ptr[1]= new_node\n",
    "        \n",
    "    def __repr__(self):\n",
    "        class_name = type(self).__name__\n",
    "        if len(self)==0:\n",
    "            components=\"\"\n",
    "        else:\n",
    "            components = reprlib.repr(self[0])\n",
    "        return '{}([{},...])'.format(class_name,components)\n",
    "\n",
    "\n",
    "    def __len__(self):\n",
    "        curr_ptr = self._headNode\n",
    "        count = 0\n",
    "        if curr_ptr==None:\n",
    "            return 0\n",
    "        while 1:\n",
    "            count = count + 1\n",
    "            if curr_ptr[1] is None:\n",
    "                break\n",
    "            curr_ptr = curr_ptr[1]\n",
    "        return count    \n",
    "    \n",
    "    def __getitem__(self, index):\n",
    "        class_name = type(self).__name__\n",
    "        if isinstance(index, numbers.Integral): \n",
    "            curr_ptr = self._headNode\n",
    "            if curr_ptr==None:\n",
    "                msg = 'trying to index an empty {class_name}' \n",
    "                raise IndexError(msg.format(class_name=class_name))\n",
    "            next_ptr = self._headNode[1]\n",
    "            count = 0\n",
    "            while 1:\n",
    "                if index == count:\n",
    "                    return curr_ptr[0]\n",
    "                if curr_ptr[1] is None:\n",
    "                    msg = '{class_name} index out of range' \n",
    "                    raise IndexError(msg.format(class_name=class_name))       \n",
    "                count += 1\n",
    "                curr_ptr = curr_ptr[1]\n",
    "        else:\n",
    "            msg = '{class_name} indices must be integers' \n",
    "            raise TypeError(msg.format(class_name=class_name))\n",
    "            \n",
    "    def __setitem__(self, index, element):\n",
    "        class_name = type(self).__name__\n",
    "        if isinstance(index, numbers.Integral): \n",
    "            curr_ptr = self._headNode\n",
    "            if curr_ptr==None:\n",
    "                msg = 'trying to index an empty {class_name}' \n",
    "                raise IndexError(msg.format(class_name=class_name))\n",
    "            count=0\n",
    "            while 1:\n",
    "                if index == count:\n",
    "                    curr_ptr[0] = element\n",
    "                    if index == 0:\n",
    "                        self._headNode = curr_ptr\n",
    "                    break\n",
    "                if curr_ptr[1] is None:\n",
    "                    msg = '{class_name} index out of range' \n",
    "                    raise IndexError(msg.format(class_name=class_name)) \n",
    "                count+=1\n",
    "                curr_ptr = curr_ptr[1]\n",
    "        else:\n",
    "            msg = '{class_name} indices must be integers' \n",
    "            raise TypeError(msg.format(class_name=class_name))\n",
    "            "
   ]
  },
  {
   "cell_type": "code",
   "execution_count": 18,
   "metadata": {
    "collapsed": false
   },
   "outputs": [
    {
     "name": "stdout",
     "output_type": "stream",
     "text": [
      "Length:  3\n"
     ]
    },
    {
     "data": {
      "text/plain": [
       "4"
      ]
     },
     "execution_count": 18,
     "metadata": {},
     "output_type": "execute_result"
    }
   ],
   "source": [
    "# Example showing use of set item method:\n",
    "\n",
    "myLinkedList = LL()\n",
    "myLinkedList.insert_front(5)\n",
    "myLinkedList.insert_front(6)\n",
    "myLinkedList.insert_front(6)\n",
    "print(\"Length: \",len(myLinkedList))\n",
    "myLinkedList[2]=4\n",
    "myLinkedList[2]"
   ]
  },
  {
   "cell_type": "markdown",
   "metadata": {},
   "source": [
    "## Q2.\n",
    "\n",
    "An online mean and standard deviation algorithm.\n",
    "\n",
    "Below is a function to generate a potentially infinite stream of 1-D data."
   ]
  },
  {
   "cell_type": "code",
   "execution_count": 1,
   "metadata": {
    "collapsed": false
   },
   "outputs": [],
   "source": [
    "from random import normalvariate, random\n",
    "from itertools import count\n",
    "def make_data(m, stop=None):\n",
    "    for _ in count():\n",
    "        if stop and _ > stop:\n",
    "            break\n",
    "        yield 1.0e09 + normalvariate(0, m*random() )\n",
    "        "
   ]
  },
  {
   "cell_type": "markdown",
   "metadata": {},
   "source": [
    "Here is an implementation of an online mean algorithm..see http://www.johndcook.com/blog/standard_deviation/ and the link to http://www.johndcook.com/blog/2008/09/26/comparing-three-methods-of-computing-standard-deviation/ in-between. (Convince yourselves of the formulas...)"
   ]
  },
  {
   "cell_type": "code",
   "execution_count": 2,
   "metadata": {
    "collapsed": true
   },
   "outputs": [],
   "source": [
    "def online_mean(iterator):\n",
    "    n = 0\n",
    "    mu = 0\n",
    "    for value in iterator:\n",
    "        n += 1\n",
    "        delta = value - mu\n",
    "        mu = mu + delta/n\n",
    "        yield mu"
   ]
  },
  {
   "cell_type": "markdown",
   "metadata": {},
   "source": [
    "We use our generator functions to implement iterators:"
   ]
  },
  {
   "cell_type": "code",
   "execution_count": 3,
   "metadata": {
    "collapsed": false
   },
   "outputs": [
    {
     "data": {
      "text/plain": [
       "[1000000004.5396862,\n",
       " 999999999.5303862,\n",
       " 1000000002.8798914,\n",
       " 1000000001.2541183,\n",
       " 999999999.8562678,\n",
       " 1000000002.679568,\n",
       " 1000000002.5060941,\n",
       " 999999998.0273261,\n",
       " 999999995.3439487,\n",
       " 1000000000.7521349,\n",
       " 1000000004.6209784]"
      ]
     },
     "execution_count": 3,
     "metadata": {},
     "output_type": "execute_result"
    }
   ],
   "source": [
    "g = make_data(5, 10)\n",
    "list(g)"
   ]
  },
  {
   "cell_type": "code",
   "execution_count": 4,
   "metadata": {
    "collapsed": false
   },
   "outputs": [
    {
     "name": "stdout",
     "output_type": "stream",
     "text": [
      "<class 'generator'>\n"
     ]
    },
    {
     "data": {
      "text/plain": [
       "[1000000001.2137014,\n",
       " 1000000000.6219122,\n",
       " 1000000000.6693263,\n",
       " 999999998.6083226,\n",
       " 999999998.6633834,\n",
       " 999999998.7978028,\n",
       " 999999998.416349,\n",
       " 999999998.6252012,\n",
       " 999999999.0844879,\n",
       " 999999999.2188281,\n",
       " 999999999.2586182,\n",
       " 999999999.3836002,\n",
       " 999999999.6676482,\n",
       " 999999999.7639234,\n",
       " 999999999.9369645,\n",
       " 999999999.8782458,\n",
       " 999999999.8437614,\n",
       " 999999999.9561348,\n",
       " 999999999.9894805,\n",
       " 1000000000.0144464,\n",
       " 1000000000.0000138,\n",
       " 999999999.9897428,\n",
       " 1000000000.0940074,\n",
       " 1000000000.0100394,\n",
       " 1000000000.1134287,\n",
       " 999999999.8597358,\n",
       " 999999999.9580063,\n",
       " 999999999.9568076,\n",
       " 999999999.9271019,\n",
       " 999999999.8705577,\n",
       " 1000000000.0030863,\n",
       " 999999999.9857712,\n",
       " 1000000000.0163168,\n",
       " 1000000000.0225146,\n",
       " 1000000000.0537295,\n",
       " 1000000000.0913427,\n",
       " 1000000000.0115355,\n",
       " 1000000000.017358,\n",
       " 999999999.9930785,\n",
       " 999999999.8482876,\n",
       " 999999999.8124729,\n",
       " 999999999.826397,\n",
       " 999999999.8317163,\n",
       " 999999999.8376387,\n",
       " 999999999.901007,\n",
       " 999999999.9143425,\n",
       " 999999999.9254732,\n",
       " 999999999.96317,\n",
       " 999999999.9639083,\n",
       " 999999999.9456505,\n",
       " 999999999.9241059,\n",
       " 1000000000.0627673,\n",
       " 1000000000.1015793,\n",
       " 1000000000.1261249,\n",
       " 1000000000.048132,\n",
       " 1000000000.0442938,\n",
       " 1000000000.046492,\n",
       " 1000000000.1256082,\n",
       " 1000000000.1236963,\n",
       " 1000000000.1120415,\n",
       " 1000000000.1581584,\n",
       " 1000000000.1563141,\n",
       " 1000000000.1541715,\n",
       " 1000000000.265892,\n",
       " 1000000000.2387745,\n",
       " 1000000000.3109299,\n",
       " 1000000000.313664,\n",
       " 1000000000.2940863,\n",
       " 1000000000.2636942,\n",
       " 1000000000.2695847,\n",
       " 1000000000.2933172,\n",
       " 1000000000.2697412,\n",
       " 1000000000.2466785,\n",
       " 1000000000.2343216,\n",
       " 1000000000.194752,\n",
       " 1000000000.1926221,\n",
       " 1000000000.1681682,\n",
       " 1000000000.2822218,\n",
       " 1000000000.2809467,\n",
       " 1000000000.2892908,\n",
       " 1000000000.294311,\n",
       " 1000000000.2960186,\n",
       " 1000000000.2723294,\n",
       " 1000000000.324479,\n",
       " 1000000000.3086553,\n",
       " 1000000000.321923,\n",
       " 1000000000.3658935,\n",
       " 1000000000.3154684,\n",
       " 1000000000.2806543,\n",
       " 1000000000.2939774,\n",
       " 1000000000.2967784,\n",
       " 1000000000.3529096,\n",
       " 1000000000.3199588,\n",
       " 1000000000.3147914,\n",
       " 1000000000.3096569,\n",
       " 1000000000.3309615,\n",
       " 1000000000.3421707,\n",
       " 1000000000.3236961,\n",
       " 1000000000.3040513,\n",
       " 1000000000.3232831,\n",
       " 1000000000.324655]"
      ]
     },
     "execution_count": 4,
     "metadata": {},
     "output_type": "execute_result"
    }
   ],
   "source": [
    "g = online_mean(make_data(5, 100))\n",
    "print(type(g))\n",
    "list(g)"
   ]
  },
  {
   "cell_type": "markdown",
   "metadata": {},
   "source": [
    "### 2.1\n",
    "\n",
    "Implement the standard deviation algorithm as a generator function as\n",
    "\n",
    "```python\n",
    "def online_mean_dev(iterator):\n",
    "    BLA BLA\n",
    "    if n > 1:\n",
    "        stddev = math.sqrt(dev_accum/(n-1))\n",
    "        yield (n, value, mu, stddev)\n",
    "```"
   ]
  },
  {
   "cell_type": "code",
   "execution_count": 38,
   "metadata": {
    "collapsed": false
   },
   "outputs": [],
   "source": [
    "# your code here\n",
    "# Referenced Wikipedia - algorithms for calculating variance page\n",
    "import math\n",
    "def online_mean_dev(iterator):\n",
    "    n = 0\n",
    "    mu = 0\n",
    "    dev_accum = 0 # Sum of squares of the deviations\n",
    "    for value in iterator:\n",
    "        n += 1\n",
    "        delta = value - mu\n",
    "        mu = mu + delta/n\n",
    "        dev_accum += delta*(value - mu)\n",
    "        if n > 1:\n",
    "            stddev = math.sqrt(dev_accum/(n-1))\n",
    "            yield (n, value, mu, stddev)\n",
    "        "
   ]
  },
  {
   "cell_type": "markdown",
   "metadata": {},
   "source": [
    "Here we make 100000 element data, and run this iterator on it (imagine running this on a time-series being slowly read from disk"
   ]
  },
  {
   "cell_type": "code",
   "execution_count": 39,
   "metadata": {
    "collapsed": true
   },
   "outputs": [],
   "source": [
    "data_with_stats = online_mean_dev(make_data(5, 100000))"
   ]
  },
  {
   "cell_type": "markdown",
   "metadata": {},
   "source": [
    "## Q3.\n",
    "\n",
    "Let's do Anomaly detection. Write a routine `is_ok`:\n",
    "\n",
    "```python\n",
    "def is_ok(level, t)\n",
    "```\n",
    "\n",
    "which takes a tuple like the one yielded by your code above and returns True if the value is inbetween `level`-$\\sigma$ of the mean."
   ]
  },
  {
   "cell_type": "code",
   "execution_count": 40,
   "metadata": {
    "collapsed": false
   },
   "outputs": [],
   "source": [
    "#your code here\n",
    "def is_ok(level, t):\n",
    "    (n, value, mu, stddev) = t\n",
    "    return abs(value-mu)<level*stddev"
   ]
  },
  {
   "cell_type": "markdown",
   "metadata": {},
   "source": [
    "We use this function to create a predicate passed through to `itertools.filterfalse` which is then used to obtain an iterator on the anomalies."
   ]
  },
  {
   "cell_type": "code",
   "execution_count": 41,
   "metadata": {
    "collapsed": true
   },
   "outputs": [],
   "source": [
    "from itertools import filterfalse\n",
    "pred = lambda t: is_ok(5, t)\n",
    "anomalies = filterfalse(pred, data_with_stats)"
   ]
  },
  {
   "cell_type": "markdown",
   "metadata": {},
   "source": [
    "We materialize the anomalies..."
   ]
  },
  {
   "cell_type": "code",
   "execution_count": 42,
   "metadata": {
    "collapsed": false
   },
   "outputs": [
    {
     "data": {
      "text/plain": [
       "[(1835, 999999985.4047824, 1000000000.0213615, 2.8663928324583314),\n",
       " (1984, 1000000016.493598, 999999999.9977401, 2.8969970469980386),\n",
       " (2122, 999999985.1916033, 999999999.9659057, 2.9005692160547323),\n",
       " (5217, 999999984.9747802, 999999999.9604595, 2.881714488262054),\n",
       " (5493, 999999985.386237, 999999999.9549211, 2.8858165730444814),\n",
       " (7514, 999999984.4401242, 999999999.9410933, 2.911229519679254),\n",
       " (11643, 999999985.3843204, 999999999.9593089, 2.9112379855307404),\n",
       " (11928, 999999984.6468571, 999999999.9577291, 2.9137738506712263),\n",
       " (15772, 1000000015.050465, 999999999.9813043, 2.9131542747276424),\n",
       " (16486, 1000000014.7177752, 999999999.98445, 2.915524946112416),\n",
       " (21880, 1000000014.8627565, 999999999.9908035, 2.910260998904454),\n",
       " (23845, 1000000014.6529014, 999999999.9922757, 2.90986031441394),\n",
       " (26595, 1000000021.120691, 999999999.9983298, 2.9083382503840647),\n",
       " (27209, 999999983.8309938, 1000000000.0023828, 2.9117781638082096),\n",
       " (28427, 999999985.3971981, 1000000000.0015264, 2.9093572869067814),\n",
       " (40296, 999999985.0302482, 1000000000.0027924, 2.906531229481274),\n",
       " (41010, 999999984.3570355, 1000000000.0000077, 2.903628371026371),\n",
       " (49899, 999999983.2375205, 1000000000.0000948, 2.887861707111482),\n",
       " (51586, 1000000014.7881542, 1000000000.0015522, 2.8866764073603797),\n",
       " (52156, 1000000014.8798954, 1000000000.0023277, 2.8886304654250345),\n",
       " (58720, 1000000015.3413942, 1000000000.0029515, 2.886883853455959),\n",
       " (64745, 1000000015.6226711, 1000000000.0041445, 2.8887106546097505),\n",
       " (68364, 999999983.4992666, 1000000000.0049392, 2.8892475458532214),\n",
       " (68957, 999999984.3574222, 1000000000.0041723, 2.8898075568631416),\n",
       " (72278, 1000000015.1558082, 1000000000.0025718, 2.8898496104119777),\n",
       " (73120, 999999984.154512, 1000000000.0016606, 2.890586785194903),\n",
       " (75663, 1000000014.9179811, 1000000000.000017, 2.8899520652946222),\n",
       " (80904, 999999983.1492035, 1000000000.0025175, 2.8911192743902747),\n",
       " (81258, 1000000015.4269496, 1000000000.00309, 2.8917273067359024),\n",
       " (81632, 999999983.6551584, 1000000000.0029536, 2.8923982147751675),\n",
       " (84644, 1000000015.872127, 1000000000.0044881, 2.8894976256035574),\n",
       " (86481, 999999979.6556506, 1000000000.002795, 2.8873942107114465),\n",
       " (90713, 999999981.7197069, 1000000000.0036421, 2.8903796073419787),\n",
       " (94526, 1000000015.1176882, 1000000000.0045776, 2.890557004521922),\n",
       " (96625, 999999984.004813, 1000000000.0030695, 2.8906454495923644)]"
      ]
     },
     "execution_count": 42,
     "metadata": {},
     "output_type": "execute_result"
    }
   ],
   "source": [
    "list(anomalies)#materialize"
   ]
  },
  {
   "cell_type": "markdown",
   "metadata": {},
   "source": [
    "## To think of, but not hand in\n",
    "\n",
    "What kinds of anomalies will this algorithm pick up? What kinds would a shorter \"window\" of anomaly detection, like 100 points around the time in question pick? How might you create an algorithm which does window based averaging? (hint: the window size is small compared to the time series size). \n",
    "\n",
    "Finally think a bit of how you might implement all of this in a production environment..remember that data streaming in might get backed up when you handle an anomaly.\n",
    "\n",
    "(Some inspiration might accrue if you look at the docs for `collections.deque`)."
   ]
  }
 ],
 "metadata": {
  "anaconda-cloud": {},
  "kernelspec": {
   "display_name": "Python [py35]",
   "language": "python",
   "name": "Python [py35]"
  },
  "language_info": {
   "codemirror_mode": {
    "name": "ipython",
    "version": 3
   },
   "file_extension": ".py",
   "mimetype": "text/x-python",
   "name": "python",
   "nbconvert_exporter": "python",
   "pygments_lexer": "ipython3",
   "version": "3.5.2"
  }
 },
 "nbformat": 4,
 "nbformat_minor": 0
}
