{
 "cells": [
  {
   "cell_type": "markdown",
   "metadata": {},
   "source": [
    "## Q1. Median Maintenance using a Heap\n",
    "\n",
    "\n",
    "### Part 1\n",
    "\n",
    "Implement a \"dominant heap\" class `BinaryHeap`, which can handle both the min heap and the max heap cases, by having the constructor explicitly pass the \"comparison\" operator in. Replace min and del_min by dominant and del_dominant methods. Change the classmethod to also take in the operator."
   ]
  },
  {
   "cell_type": "code",
   "execution_count": 14,
   "metadata": {
    "collapsed": true
   },
   "outputs": [],
   "source": [
    "#your code here\n",
    "from IPython.display import Image\n",
    "class BinaryHeap:\n",
    "    \"\"\"\n",
    "    Binary heap class that acts as either a min heap or a max heap. \n",
    "    \n",
    "    Examples\n",
    "    --------\n",
    "    >>> from operator import gt, lt\n",
    "    >>> data = [1,8,5,9,23,2,45,6,7,99,-5]\n",
    "    >>> bh = BinaryHeap.heapify_slow(data, lt)\n",
    "  \n",
    "    \"\"\" \n",
    "    def __init__(self, comparison_operator): # Add comparison operator\n",
    "        \"\"\"\n",
    "        Initialize the binary heap class.\n",
    "    \n",
    "        Parameters\n",
    "        ----------\n",
    "        comparison_operator : builtin_function_or_method\n",
    "            less than (lt) or greater than (gt) function\n",
    "\n",
    "        Examples\n",
    "        --------\n",
    "        >>> from operator import gt, lt\n",
    "        >>> bh = BinaryHeap(lt)\n",
    "        \"\"\" \n",
    "        self.storage=[None]\n",
    "        self.upto=0\n",
    "        self.min_max = comparison_operator # Store as a property\n",
    "        \n",
    "    @classmethod\n",
    "    def heapify_slow(cls, it, comparison_operator): \n",
    "        inst = cls(comparison_operator) # Instantiate with comparison operator\n",
    "        for i in it:\n",
    "            inst.insert(i)\n",
    "        return inst\n",
    "            \n",
    "    def insert(self, value):\n",
    "        self.storage.append(value)\n",
    "        self.upto += 1\n",
    "        self.sift_up(self.upto)\n",
    "\n",
    "    def sift_up(self, i):\n",
    "        parent = i // 2\n",
    "        # If \"less than\" operator, switch parent and child if child is less than parent\n",
    "        # If \"greater than\" operator, switch if child is greater than parent.\n",
    "        if parent > 0 and self.min_max(self.storage[i],self.storage[parent]): \n",
    "            self.storage[i], self.storage[parent] = self.storage[parent], self.storage[i]\n",
    "            self.sift_up(parent)\n",
    "     \n",
    "    def _min_max_child(self, i):            \n",
    "        if 2*i + 1 > self.upto: # If the second child index is out of range\n",
    "            return 2*i # Return the first child index\n",
    "        else: \n",
    "            l = (self.storage[2*i], self.storage[2*i+1]) # Indices of both children\n",
    "            return 2*i + self.min_max(l[1], l[0]) # Return index of min/max child, depending on comparison operator\n",
    "    \n",
    "    def sift_down(self, i):\n",
    "        if 2*i <= self.upto: # If the first child index exists\n",
    "            child = self._min_max_child(i) # Get the index of the min/max child depending on the operator specified\n",
    "            if self.min_max(self.storage[child], self.storage[i]): # If the parent is greater/less than than the child\n",
    "                self.storage[child], self.storage[i] = self.storage[i], self.storage[child] # Swap them\n",
    "                self.sift_down(child)\n",
    "        \n",
    "    def dominant(self):\n",
    "        return self.storage[1] # Get the head of the tree\n",
    "    \n",
    "    def del_dominant(self):\n",
    "        dominant = self.storage[1] \n",
    "        # Switch the dominant and last\n",
    "        self.storage[1], self.storage[self.upto] = self.storage[self.upto], self.storage[1] \n",
    "        self.storage.pop() # Remove the dominant\n",
    "        self.upto -= 1 # Lower the length counter by 1\n",
    "        self.sift_down(1) \n",
    "        return dominant"
   ]
  },
  {
   "cell_type": "code",
   "execution_count": 15,
   "metadata": {
    "collapsed": true
   },
   "outputs": [],
   "source": [
    "data = [1,8,5,9,23,2,45,6,7,99,-5]"
   ]
  },
  {
   "cell_type": "code",
   "execution_count": 27,
   "metadata": {
    "collapsed": false
   },
   "outputs": [
    {
     "name": "stdout",
     "output_type": "stream",
     "text": [
      "[None, -5, 1, 2, 7, 6, 5, 45, 9, 8, 99, 23]\n"
     ]
    },
    {
     "data": {
      "text/plain": [
       "-5"
      ]
     },
     "execution_count": 27,
     "metadata": {},
     "output_type": "execute_result"
    }
   ],
   "source": [
    "from operator import gt, lt\n",
    "# Min-heap case\n",
    "bh = BinaryHeap.heapify_slow(data, lt)\n",
    "print(bh.storage)\n",
    "bh.dominant()"
   ]
  },
  {
   "cell_type": "code",
   "execution_count": 17,
   "metadata": {
    "collapsed": false
   },
   "outputs": [
    {
     "name": "stdout",
     "output_type": "stream",
     "text": [
      "[None, 1, 6, 2, 7, 23, 5, 45, 9, 8, 99]\n"
     ]
    },
    {
     "data": {
      "text/plain": [
       "1"
      ]
     },
     "execution_count": 17,
     "metadata": {},
     "output_type": "execute_result"
    }
   ],
   "source": [
    "# Test deleting the min\n",
    "bh.del_dominant()\n",
    "print (bh.storage)\n",
    "bh.dominant()"
   ]
  },
  {
   "cell_type": "code",
   "execution_count": 18,
   "metadata": {
    "collapsed": false
   },
   "outputs": [
    {
     "name": "stdout",
     "output_type": "stream",
     "text": [
      "[None, 99, 45, 23, 7, 9, 2, 5, 1, 6, 8, -5]\n"
     ]
    },
    {
     "data": {
      "text/plain": [
       "99"
      ]
     },
     "execution_count": 18,
     "metadata": {},
     "output_type": "execute_result"
    }
   ],
   "source": [
    "# Max-heap case\n",
    "bh = BinaryHeap.heapify_slow(data, gt)\n",
    "print(bh.storage)\n",
    "bh.dominant()"
   ]
  },
  {
   "cell_type": "code",
   "execution_count": 19,
   "metadata": {
    "collapsed": false
   },
   "outputs": [
    {
     "name": "stdout",
     "output_type": "stream",
     "text": [
      "[None, 45, 9, 23, 7, 8, 2, 5, 1, 6, -5]\n"
     ]
    },
    {
     "data": {
      "text/plain": [
       "45"
      ]
     },
     "execution_count": 19,
     "metadata": {},
     "output_type": "execute_result"
    }
   ],
   "source": [
    "# Test deleting the max\n",
    "bh.del_dominant()\n",
    "print (bh.storage)\n",
    "bh.dominant()"
   ]
  },
  {
   "cell_type": "markdown",
   "metadata": {},
   "source": [
    "### Part 2\n",
    "\n",
    "Median maintenance is a very cool algorithm to find an online median.\n",
    "We create two arrays to test our implementation, using np.median to test our answer..."
   ]
  },
  {
   "cell_type": "code",
   "execution_count": 20,
   "metadata": {
    "collapsed": false
   },
   "outputs": [
    {
     "name": "stdout",
     "output_type": "stream",
     "text": [
      "150 542.5\n",
      "151 540.0\n"
     ]
    }
   ],
   "source": [
    "import random\n",
    "import numpy as np\n",
    "l = [random.randint(1,1000) for _ in range(150)]\n",
    "print(len(l), np.median(l))\n",
    "l2 = l + [random.randint(1,1000)]\n",
    "print(len(l2), np.median(l2))"
   ]
  },
  {
   "cell_type": "markdown",
   "metadata": {},
   "source": [
    "You will implement def online_median(iterator) which is a generator yielding successive values of your online median.\n",
    "\n",
    "The algorithm is as follows:\n",
    "\n",
    "We'll use 2 heaps, a max heap for the lower half of the data, and a min-heap for the upper half. We take the first 2values in our data and assign the smaller value to the max heap, while the larger value goes to the min-heap. Then, as we \"insert\" subsequent values in one of the two heaps, the following holds: if we keep the number of elements in both heaps equal (for the even case) or at-most differing by one, the median is respectively the average of the two dominants or the dominant in the heap with one extra item.\n",
    "\n",
    "What then is our strategy for this balanced insertion? Quite simple really: if a new value is not as dominant as the dominant value, add it to that heap. If it is more dominant, add it to the other. If two items in a row get added to the same heap, the heaps will be out of balance by more than one. In this case, take the dominant element from the larger heap and simply add it to the smaller one."
   ]
  },
  {
   "cell_type": "code",
   "execution_count": 21,
   "metadata": {
    "collapsed": false
   },
   "outputs": [],
   "source": [
    "#your code here\n",
    "def online_median(iterator):\n",
    "    \"\"\"\n",
    "    Calculate the online median.\n",
    "    \n",
    "    Parameters\n",
    "    ----------\n",
    "    iterator : generator\n",
    "        a generator of items to add to online median calculation\n",
    "        \n",
    "    Returns\n",
    "    -------\n",
    "    generator of median values yielded after each item is added.\n",
    "\n",
    "    Notes\n",
    "    -----\n",
    "    POST: \n",
    "        - 'iterator' is not changed by this function\n",
    "          \n",
    "    Examples\n",
    "    --------\n",
    "    >>> input = iter(range(10))\n",
    "    >>> online_median(input)\n",
    "    <generator object online_median at 0x109386938>\n",
    "    >>> list(online_median(input))\n",
    "    [0, 0.5, 1.0, 1.5, 2.0, 2.5, 3.0, 3.5, 4.0, 4.5]\n",
    "    \n",
    "    \"\"\" \n",
    "    n=0\n",
    "    \n",
    "    # Create two empty binary heaps.\n",
    "    lower_half = BinaryHeap(gt)\n",
    "    upper_half = BinaryHeap(lt)\n",
    "    first_one = 0\n",
    "    for value in iterator:\n",
    "        if n == 0: \n",
    "            # Store first value\n",
    "            first_one = value\n",
    "            n+=1\n",
    "            median= first_one\n",
    "            yield median\n",
    "            continue\n",
    "        elif n==1:\n",
    "            # For first two values, Add min to lower half, max to upper half\n",
    "            lower_half.insert(min(value, first_one))\n",
    "            upper_half.insert(max(value, first_one))\n",
    "        elif n>1:\n",
    "            # Compare with dominant of each heap.\n",
    "            if value < lower_half.dominant():\n",
    "                lower_half.insert(value)\n",
    "            else:\n",
    "                upper_half.insert(value)\n",
    "        # Check to make sure the length of the heaps does not differ by more than one. \n",
    "        if abs(lower_half.upto - upper_half.upto)>1:\n",
    "            # if it does, take the dominant element from larger heap and add it to smaller one\n",
    "            if lower_half.upto > upper_half.upto:\n",
    "                upper_half.insert(lower_half.dominant())\n",
    "                lower_half.del_dominant()\n",
    "            else:\n",
    "                lower_half.insert(upper_half.dominant())\n",
    "                upper_half.del_dominant()\n",
    "        if lower_half.upto == upper_half.upto:\n",
    "            median =  (lower_half.dominant() + upper_half.dominant())/2\n",
    "        elif lower_half.upto < upper_half.upto: \n",
    "            median = upper_half.dominant()\n",
    "        else:\n",
    "            median = lower_half.dominant()\n",
    "        yield float(median)\n",
    "        # Add to the counter\n",
    "        n += 1 "
   ]
  },
  {
   "cell_type": "code",
   "execution_count": 24,
   "metadata": {
    "collapsed": false
   },
   "outputs": [
    {
     "data": {
      "text/plain": [
       "[0, 0.5, 1.0, 1.5, 2.0, 2.5, 3.0, 3.5, 4.0, 4.5]"
      ]
     },
     "execution_count": 24,
     "metadata": {},
     "output_type": "execute_result"
    }
   ],
   "source": [
    "# Checking doc test\n",
    "input = iter(range(10))\n",
    "list(online_median(input))"
   ]
  },
  {
   "cell_type": "markdown",
   "metadata": {},
   "source": [
    "Do your answers match?\n"
   ]
  },
  {
   "cell_type": "code",
   "execution_count": 344,
   "metadata": {
    "collapsed": false
   },
   "outputs": [
    {
     "name": "stdout",
     "output_type": "stream",
     "text": [
      "508.0\n"
     ]
    },
    {
     "data": {
      "text/plain": [
       "[<matplotlib.lines.Line2D at 0x10f3c9e80>]"
      ]
     },
     "execution_count": 344,
     "metadata": {},
     "output_type": "execute_result"
    },
    {
     "data": {
      "image/png": "[encoded data removed]",
      "text/plain": [
       "<matplotlib.figure.Figure at 0x10ef4f9b0>"
      ]
     },
     "metadata": {},
     "output_type": "display_data"
    }
   ],
   "source": [
    "%matplotlib inline\n",
    "import matplotlib.pyplot as plt\n",
    "medians = list(online_median(iter(l)))\n",
    "print(medians[-1])\n",
    "plt.plot(medians)"
   ]
  },
  {
   "cell_type": "code",
   "execution_count": 346,
   "metadata": {
    "collapsed": false
   },
   "outputs": [
    {
     "data": {
      "text/plain": [
       "509.0"
      ]
     },
     "execution_count": 346,
     "metadata": {},
     "output_type": "execute_result"
    }
   ],
   "source": [
    "list(online_median(iter(l2)))[-1]"
   ]
  },
  {
   "cell_type": "markdown",
   "metadata": {},
   "source": [
    "Lastly, lets repeat the analysis we did last time on the randomly generated data."
   ]
  },
  {
   "cell_type": "code",
   "execution_count": 347,
   "metadata": {
    "collapsed": true
   },
   "outputs": [],
   "source": [
    "from random import normalvariate, random\n",
    "from itertools import count\n",
    "def make_data(m, stop=None):\n",
    "    for _ in count():\n",
    "        if stop and _ > stop:\n",
    "            break\n",
    "        yield 1.0e09 + normalvariate(0, m*random() )"
   ]
  },
  {
   "cell_type": "code",
   "execution_count": 348,
   "metadata": {
    "collapsed": false
   },
   "outputs": [
    {
     "name": "stdout",
     "output_type": "stream",
     "text": [
      "<class 'generator'>\n"
     ]
    },
    {
     "data": {
      "text/plain": [
       "[1000000000.0103987,\n",
       " 1000000000.0131545,\n",
       " 1000000000.0103987,\n",
       " 1000000000.007643,\n",
       " 1000000000.0103987,\n",
       " 1000000000.0131545,\n",
       " 1000000000.0366889,\n",
       " 1000000000.0131545,\n",
       " 1000000000.0103987,\n",
       " 1000000000.0131545]"
      ]
     },
     "execution_count": 348,
     "metadata": {},
     "output_type": "execute_result"
    }
   ],
   "source": [
    "g = online_median(make_data(5, 100))\n",
    "print(type(g))\n",
    "out = list(g)\n",
    "out[-10:]"
   ]
  },
  {
   "cell_type": "code",
   "execution_count": 349,
   "metadata": {
    "collapsed": false
   },
   "outputs": [
    {
     "data": {
      "text/plain": [
       "[<matplotlib.lines.Line2D at 0x10f509a58>]"
      ]
     },
     "execution_count": 349,
     "metadata": {},
     "output_type": "execute_result"
    },
    {
     "data": {
      "image/png": "[encoded data removed]",
      "text/plain": [
       "<matplotlib.figure.Figure at 0x10f3959e8>"
      ]
     },
     "metadata": {},
     "output_type": "display_data"
    }
   ],
   "source": [
    "plt.plot(out)"
   ]
  },
  {
   "cell_type": "markdown",
   "metadata": {},
   "source": [
    "## Q2\n",
    "\n",
    "### Simulating a flight check-in counter\n",
    "\n",
    "It is your job to simulate a flight-checkin counter. There are m agents handling n passengers. The passengers arrive in line with in-between time given by an exponential distribution for INTER_ARRIVAL_TIME. Each passenger, once he or she gets to a counter, is processed in a time drawn from an exponential distribution with PROCESSING_TIME. \n",
    "\n",
    "Clearly, in the usual case of 3-4 agents and 200+ customers on a flight, the customer waits much longer. We have been hired by the airlines customer-relations group to see how many extra agents must we hire to reduce waiting times by how much.\n",
    "\n",
    "We start by representing each customer by a co-routine, which starts with the `inline` event. The state changes to the `atcounter` event, and then `ptime` seconds later, to the `leaves` event. Notice how this customer \"process\" is stopped at the yield, until the customer can be handled."
   ]
  },
  {
   "cell_type": "code",
   "execution_count": 1,
   "metadata": {
    "collapsed": true
   },
   "outputs": [],
   "source": [
    "import collections, random\n",
    "Event = collections.namedtuple('Event', 'time cid action agent')\n",
    "def customer_process(idee, start, ptime):\n",
    "    t, agent = yield Event(start, idee, \"inline\", None)\n",
    "    t, agent = yield Event(t, idee, \"atcounter\", agent)\n",
    "    yield Event(t+ptime, idee, \"leaves\", agent)            "
   ]
  },
  {
   "cell_type": "markdown",
   "metadata": {},
   "source": [
    "The following function simply implements the draw from the exponential distribution for a given customer:"
   ]
  },
  {
   "cell_type": "code",
   "execution_count": 2,
   "metadata": {
    "collapsed": true
   },
   "outputs": [],
   "source": [
    "def duration(arr_time, service_time):\n",
    "    return random.expovariate(1./arr_time), random.expovariate(1./service_time)"
   ]
  },
  {
   "cell_type": "markdown",
   "metadata": {},
   "source": [
    "Here is our main simulation class. you will be filling in parts of this class.\n",
    "\n",
    "The constructor sets up the simulation. Three queues are created, one for agents that become free, one priority queue for events so that they can be processed in the order recieved, and a backlog for queue for those customers waiting in line because no agent was available.\n",
    "\n",
    "We set up all the customers in the constructor, with two dictionaries, one to hold the co-routines, and one to hold time metadata which we shall use to figure the average waiting time.\n",
    "\n",
    "The `run` method is where all the action happens and is the one you will edit."
   ]
  },
  {
   "cell_type": "code",
   "execution_count": 3,
   "metadata": {
    "collapsed": false
   },
   "outputs": [],
   "source": [
    "import queue\n",
    "import logging\n",
    "class Simulator:\n",
    "    \n",
    "    def __init__(self, n_agents, n_customers, INTER_ARRIVAL_TIME =1., PROCESSING_TIME=3., DEBUG=False ): \n",
    "        #queues\n",
    "        self.free_agents = queue.Queue()\n",
    "        self.backlog = queue.Queue()\n",
    "        self.events=queue.PriorityQueue()\n",
    "        #save the arguments\n",
    "        self.n_customers = n_customers\n",
    "        self.n_agents = n_agents\n",
    "        self.intertime=INTER_ARRIVAL_TIME\n",
    "        self.proctime=PROCESSING_TIME\n",
    "        #dictionaries to hold customer process\n",
    "        self.customers={}\n",
    "        self.customer_meta={}\n",
    "        self.logger = logging.getLogger(\"sim\")\n",
    "        if DEBUG:\n",
    "            self.logger.setLevel(logging.DEBUG)\n",
    "            self.logger.addHandler(logging.StreamHandler()) # Allow logger to print logs in debug mode\n",
    "        else:\n",
    "            self.logger.setLevel(logging.WARNING)\n",
    "        #on the free_agents queue, we put all the agents, and the time\n",
    "        #they got free\n",
    "        for i in range(n_agents):\n",
    "            self.free_agents.put((i,0))\n",
    "        #this tracks when each customer came in.          \n",
    "        time_when_came=0.\n",
    "        for j in range(n_customers): # For each of the customers\n",
    "            # Generate the time between customers and process time from a random exponential distribution.\n",
    "            interarrtime, proctime = duration(self.intertime, self.proctime) \n",
    "            time_when_came += interarrtime # Add the interval time to get the time when the person came.\n",
    "            intuple = (j, time_when_came, proctime)\n",
    "            c = customer_process(*intuple) # Initiate a customer process with ID, start time, and process time\n",
    "            self.logger.debug(\"Customer {}, arrived {}, will take {} at counter\".format(*intuple))\n",
    "            #add each customer to dictionaries\n",
    "            self.customers[j]=c\n",
    "            self.customer_meta[j]={'cid':j, 'start':time_when_came, 'finish':None}\n",
    "        self.logger.debug(\"========ending init==============\\n\\n\")\n",
    "        self.max_time_when_came=time_when_came  \n",
    "\n",
    "    def run(self, end_time):\n",
    "        #we prime each customer co-routine at the start\n",
    "        #and put that event in the events priority queue\n",
    "        #Since an event is a tuple, the ordering will be by start time\n",
    "        for cid, proc in sorted(self.customers.items()):\n",
    "            #print(cid, self.customer_meta[cid])\n",
    "            first_event = next(proc)#prime\n",
    "            self.events.put(first_event)#customer in line\n",
    "        \n",
    "\n",
    "        #start at time 0\n",
    "        sim_time = 0\n",
    "        while sim_time < end_time:\n",
    "            #we are done if no events and no backlog\n",
    "            if self.events.empty() and self.backlog.empty(): \n",
    "                self.logger.debug('*** end of events and backlog***') \n",
    "                break\n",
    "            #if we have agents available and a backlog\n",
    "            #take customer from backlog queue. This is equivalent\n",
    "            #to taking customers from line\n",
    "            if not self.backlog.empty() and not self.free_agents.empty(): # If we can take from the backlog\n",
    "                \"YOUR CODE HERE\"\n",
    "                current_event = self.backlog.get(0) # We take and remove the first element of the backlog.\n",
    "                #print(current_event)\n",
    "                \n",
    "                #the sim time from this branch will be false\n",
    "                #as we get the old time the person in the line showed up\n",
    "            else: \n",
    "                \n",
    "                #get current event in all other cases\n",
    "                # This ensures that leave events are processed thus\n",
    "                # freeing up agents\n",
    "                \"YOUR CODE HERE\"\n",
    "                current_event = self.events.get(0) # If we can't take from backlog (because it's empty or no agents)\n",
    "                \n",
    "                \n",
    "            sim_time, cid, action, agent = current_event # Extract from the current event\n",
    "            #print(current_event)\n",
    "            #print(self.customer_meta)\n",
    "            #get the current customer process\n",
    "            cproc = self.customers[cid]\n",
    "                \n",
    "            if action=='leaves':\n",
    "                self.logger.debug(\">>>Customer {} leaves, agent {} free at {}\".format(cid, agent, sim_time))\n",
    "                #an agent gets free. Put the time they got free on q\n",
    "                #also update the metadata\n",
    "                self.free_agents.put((agent, sim_time))\n",
    "                self.customer_meta[cid]['finish']=sim_time\n",
    "            elif action=='atcounter':\n",
    "                self.logger.debug(\"Customer {} atcounter Agent {} at {}\".format(cid, agent, sim_time))\n",
    "                next_time = sim_time #processing time already in coroutine\n",
    "            elif action=='inline': #the agent is None to start\n",
    "                self.logger.debug('----------------------------------------------')\n",
    "                self.logger.debug(\"Customer {}, arrived in line @ {}.\".format(cid, sim_time))\n",
    "\n",
    "                if self.free_agents.empty():\n",
    "                    self.logger.debug(\"NO agents available, putting {} inline on backlog at {}\".format(cid, sim_time))\n",
    "                    \"YOUR CODE HERE\"\n",
    "                    self.backlog.put(current_event) # Put current event into backlog\n",
    "                    continue # No need to execute the rest of the loop because we can't proceed with this customer\n",
    "                else:\n",
    "                    self.logger.debug(\"{} agents available to serve.\".format(self.free_agents.qsize()))\n",
    "                    #handle both situations\n",
    "                    #of getting from backlog or regular. The time in\n",
    "                    #next_time which you will send in message to co-routine\n",
    "                    #below are different\n",
    "                    \"YOUR CODE HERE\"\n",
    "                    agent = self.free_agents.get() # Get any free agent\n",
    "                    if agent[-1] > sim_time: # If the agent was available after the customer arrived\n",
    "                        # The time of service will be when the agent was available since the customer was waiting\n",
    "                        next_time = agent[-1] \n",
    "                    elif agent[-1] <=sim_time:\n",
    "                        # If there were agents available when the customer arrived, the time of service is right away\n",
    "                        next_time = sim_time\n",
    "                    self.logger.debug(\"Customer {} inline to be served by Agent {} at {}\".format(cid, agent, next_time))\n",
    "            #drive the co-routine by sending in time and agent, and getting\n",
    "            #next event out. The event is put into the priority queue.\n",
    "            try:\n",
    "                next_event = cproc.send((next_time, agent)) \n",
    "            except StopIteration:\n",
    "                del self.customers[cid] \n",
    "            else:\n",
    "                self.events.put(next_event)\n",
    "              \n",
    "    def compute_ptimes(self):\n",
    "        ptimes=[]\n",
    "        for j in range(self.n_customers):\n",
    "            if self.customer_meta[j]['finish']!=None:\n",
    "                ptimes.append(self.customer_meta[j]['finish'] - self.customer_meta[j]['start'])\n",
    "        return ptimes\n",
    "def sim_main(num_agents, num_customers, extratime=20., seed=None, debug=False):\n",
    "    if seed is not None:\n",
    "        random.seed(seed)\n",
    "    sim = Simulator(num_agents, num_customers, DEBUG=debug)\n",
    "    sim.run(sim.max_time_when_came+extratime)\n",
    "    return sim\n",
    "#sim=sim_main(2,6, debug=True)\n",
    "#print(\"completed\")"
   ]
  },
  {
   "cell_type": "code",
   "execution_count": 34,
   "metadata": {
    "collapsed": false
   },
   "outputs": [],
   "source": [
    "#Look at state of properties\n",
    "\n",
    "#print(sim.free_agents.queue)\n",
    "#print(sim.customer_meta)\n",
    "#print(sim.events.queue)\n",
    "#print(sim.customers)\n",
    "#print(sim.customer_meta)"
   ]
  },
  {
   "cell_type": "code",
   "execution_count": 5,
   "metadata": {
    "collapsed": true
   },
   "outputs": [],
   "source": [
    "def sim_main(num_agents, num_customers, extratime=20., seed=None, debug=False):\n",
    "    if seed is not None:\n",
    "        random.seed(seed)\n",
    "    sim = Simulator(num_agents, num_customers, DEBUG=debug)\n",
    "    sim.run(sim.max_time_when_came+extratime)\n",
    "    return sim"
   ]
  },
  {
   "cell_type": "markdown",
   "metadata": {},
   "source": [
    "Start small to test this out."
   ]
  },
  {
   "cell_type": "code",
   "execution_count": 6,
   "metadata": {
    "collapsed": false
   },
   "outputs": [
    {
     "name": "stderr",
     "output_type": "stream",
     "text": [
      "Customer 0, arrived 0.9787877431058045, will take 3.8925707759031933 at counter\n",
      "Customer 1, arrived 1.1166681935367806, will take 0.5649717554281514 at counter\n",
      "Customer 2, arrived 3.272780881044933, will take 3.5616136364253466 at counter\n",
      "Customer 3, arrived 3.333218325828357, will take 3.234868201914824 at counter\n",
      "Customer 4, arrived 3.690416593512793, will take 7.335923832428126 at counter\n",
      "Customer 5, arrived 3.7379771971213183, will take 0.014032881541030901 at counter\n",
      "========ending init==============\n",
      "\n",
      "\n",
      "----------------------------------------------\n",
      "Customer 0, arrived in line @ 0.9787877431058045.\n",
      "2 agents available to serve.\n",
      "Customer 0 inline to be served by Agent (0, 0) at 0.9787877431058045\n",
      "Customer 0 atcounter Agent (0, 0) at 0.9787877431058045\n",
      "----------------------------------------------\n",
      "Customer 1, arrived in line @ 1.1166681935367806.\n",
      "1 agents available to serve.\n",
      "Customer 1 inline to be served by Agent (1, 0) at 1.1166681935367806\n",
      "Customer 1 atcounter Agent (1, 0) at 1.1166681935367806\n",
      ">>>Customer 1 leaves, agent (1, 0) free at 1.681639948964932\n",
      "----------------------------------------------\n",
      "Customer 2, arrived in line @ 3.272780881044933.\n",
      "1 agents available to serve.\n",
      "Customer 2 inline to be served by Agent ((1, 0), 1.681639948964932) at 3.272780881044933\n",
      "Customer 2 atcounter Agent ((1, 0), 1.681639948964932) at 3.272780881044933\n",
      "----------------------------------------------\n",
      "Customer 3, arrived in line @ 3.333218325828357.\n",
      "NO agents available, putting 3 inline on backlog at 3.333218325828357\n",
      "----------------------------------------------\n",
      "Customer 4, arrived in line @ 3.690416593512793.\n",
      "NO agents available, putting 4 inline on backlog at 3.690416593512793\n",
      "----------------------------------------------\n",
      "Customer 5, arrived in line @ 3.7379771971213183.\n",
      "NO agents available, putting 5 inline on backlog at 3.7379771971213183\n",
      ">>>Customer 0 leaves, agent (0, 0) free at 4.871358519008998\n",
      "----------------------------------------------\n",
      "Customer 3, arrived in line @ 3.333218325828357.\n",
      "1 agents available to serve.\n",
      "Customer 3 inline to be served by Agent ((0, 0), 4.871358519008998) at 4.871358519008998\n",
      "Customer 3 atcounter Agent ((0, 0), 4.871358519008998) at 4.871358519008998\n",
      ">>>Customer 2 leaves, agent ((1, 0), 1.681639948964932) free at 6.83439451747028\n",
      "----------------------------------------------\n",
      "Customer 4, arrived in line @ 3.690416593512793.\n",
      "1 agents available to serve.\n",
      "Customer 4 inline to be served by Agent (((1, 0), 1.681639948964932), 6.83439451747028) at 6.83439451747028\n",
      "Customer 4 atcounter Agent (((1, 0), 1.681639948964932), 6.83439451747028) at 6.83439451747028\n",
      ">>>Customer 3 leaves, agent ((0, 0), 4.871358519008998) free at 8.106226720923821\n",
      "----------------------------------------------\n",
      "Customer 5, arrived in line @ 3.7379771971213183.\n",
      "1 agents available to serve.\n",
      "Customer 5 inline to be served by Agent (((0, 0), 4.871358519008998), 8.106226720923821) at 8.106226720923821\n",
      "Customer 5 atcounter Agent (((0, 0), 4.871358519008998), 8.106226720923821) at 8.106226720923821\n",
      ">>>Customer 5 leaves, agent (((0, 0), 4.871358519008998), 8.106226720923821) free at 8.120259602464852\n",
      ">>>Customer 4 leaves, agent (((1, 0), 1.681639948964932), 6.83439451747028) free at 14.170318349898405\n",
      "*** end of events and backlog***\n"
     ]
    }
   ],
   "source": [
    "sim=sim_main(2,6, debug=True)"
   ]
  },
  {
   "cell_type": "code",
   "execution_count": 7,
   "metadata": {
    "collapsed": false
   },
   "outputs": [
    {
     "data": {
      "text/plain": [
       "{0: {'cid': 0, 'finish': 4.871358519008998, 'start': 0.9787877431058045},\n",
       " 1: {'cid': 1, 'finish': 1.681639948964932, 'start': 1.1166681935367806},\n",
       " 2: {'cid': 2, 'finish': 6.83439451747028, 'start': 3.272780881044933},\n",
       " 3: {'cid': 3, 'finish': 8.106226720923821, 'start': 3.333218325828357},\n",
       " 4: {'cid': 4, 'finish': 14.170318349898405, 'start': 3.690416593512793},\n",
       " 5: {'cid': 5, 'finish': 8.120259602464852, 'start': 3.7379771971213183}}"
      ]
     },
     "execution_count": 7,
     "metadata": {},
     "output_type": "execute_result"
    }
   ],
   "source": [
    "sim.customer_meta"
   ]
  },
  {
   "cell_type": "markdown",
   "metadata": {},
   "source": [
    "Now lets try it with some larger numbers."
   ]
  },
  {
   "cell_type": "code",
   "execution_count": 8,
   "metadata": {
    "collapsed": false
   },
   "outputs": [
    {
     "data": {
      "image/png": "[encoded data removed]",
      "text/plain": [
       "<matplotlib.figure.Figure at 0x104248f98>"
      ]
     },
     "metadata": {},
     "output_type": "display_data"
    }
   ],
   "source": [
    "%matplotlib inline\n",
    "import matplotlib.pyplot as plt\n",
    "sim=sim_main(3,100)\n",
    "plt.hist(sim.compute_ptimes(), bins=20);"
   ]
  },
  {
   "cell_type": "code",
   "execution_count": 9,
   "metadata": {
    "collapsed": false
   },
   "outputs": [
    {
     "data": {
      "image/png": "[encoded data removed]",
      "text/plain": [
       "<matplotlib.figure.Figure at 0x10ca57ba8>"
      ]
     },
     "metadata": {},
     "output_type": "display_data"
    }
   ],
   "source": [
    "sim2=sim_main(4,100)\n",
    "plt.hist(sim2.compute_ptimes(), bins=20);"
   ]
  },
  {
   "cell_type": "markdown",
   "metadata": {},
   "source": [
    "extra time needed below as with 400 passengers a long time is taken to process."
   ]
  },
  {
   "cell_type": "code",
   "execution_count": 10,
   "metadata": {
    "collapsed": false
   },
   "outputs": [
    {
     "data": {
      "image/png": "[encoded data removed]",
      "text/plain": [
       "<matplotlib.figure.Figure at 0x10cd64668>"
      ]
     },
     "metadata": {},
     "output_type": "display_data"
    }
   ],
   "source": [
    "sim2=sim_main(2,400, extratime=100)\n",
    "plt.hist(sim2.compute_ptimes(), bins=20);"
   ]
  },
  {
   "cell_type": "markdown",
   "metadata": {},
   "source": [
    "For a proper statistical analysis, you would want to draw this multiple times and look at the distribution of the averages as well. But you should know what this distribution is :-)."
   ]
  }
 ],
 "metadata": {
  "anaconda-cloud": {},
  "kernelspec": {
   "display_name": "Python [py35]",
   "language": "python",
   "name": "Python [py35]"
  },
  "language_info": {
   "codemirror_mode": {
    "name": "ipython",
    "version": 3
   },
   "file_extension": ".py",
   "mimetype": "text/x-python",
   "name": "python",
   "nbconvert_exporter": "python",
   "pygments_lexer": "ipython3",
   "version": "3.5.2"
  }
 },
 "nbformat": 4,
 "nbformat_minor": 0
}
